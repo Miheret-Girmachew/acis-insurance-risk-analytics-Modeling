{
 "cells": [
  {
   "cell_type": "code",
   "execution_count": 4,
   "id": "feeb063b",
   "metadata": {},
   "outputs": [
    {
     "name": "stdout",
     "output_type": "stream",
     "text": [
      "D:\\Tenx\\acis-insurance-risk-analytics-Modeling\\venv\\Scripts\\python.exe\n",
      "Cleaned data loaded successfully.\n",
      "Data shape: (617736, 48)\n"
     ]
    }
   ],
   "source": [
    "import sys\n",
    "print(sys.executable)\n",
    "import pandas as pd\n",
    "from scipy import stats\n",
    "import numpy as np\n",
    "\n",
    "try:\n",
    "    df = pd.read_csv('data/cleaned_insurance_data.csv')\n",
    "    print(\"Cleaned data loaded successfully.\")\n",
    "    print(\"Data shape:\", df.shape)\n",
    "except FileNotFoundError:\n",
    "    print(\"ERROR: Could not find 'data/cleaned_insurance_data.csv'.\")\n",
    "\n",
    "alpha = 0.05"
   ]
  },
  {
   "cell_type": "code",
   "execution_count": 5,
   "id": "41b2bcbf",
   "metadata": {},
   "outputs": [
    {
     "name": "stdout",
     "output_type": "stream",
     "text": [
      "Number of policies with a claim: 2628\n",
      "\n",
      "Number of province groups to compare: 9\n"
     ]
    }
   ],
   "source": [
    "# Prepare data for Claim SEVERITY test \n",
    "\n",
    "# Create a dataframe containing only policies where a claim occurred (TotalClaims > 0).\n",
    "df_claims_only = df[df['TotalClaims'] > 0].copy()\n",
    "\n",
    "print(f\"Number of policies with a claim: {len(df_claims_only)}\")\n",
    "provinces = df_claims_only['Province'].unique()\n",
    "claim_groups_by_province = [\n",
    "    df_claims_only['TotalClaims'][df_claims_only['Province'] == prov]\n",
    "    for prov in provinces\n",
    "]\n",
    "\n",
    "print(f\"\\nNumber of province groups to compare: {len(claim_groups_by_province)}\")"
   ]
  },
  {
   "cell_type": "code",
   "execution_count": 6,
   "id": "fcd20633",
   "metadata": {},
   "outputs": [
    {
     "name": "stdout",
     "output_type": "stream",
     "text": [
      "ANOVA Test Results for Claim Severity across Provinces:\n",
      "F-statistic: 4.6675\n",
      "P-value: 1.0943454529653844e-05\n",
      "\n",
      "--- Conclusion ---\n",
      "Result: The p-value (1.0943454529653844e-05) is less than our alpha (0.05).\n",
      "Decision: We REJECT the null hypothesis.\n",
      "Insight: There IS a statistically significant difference in the average claim amount (severity) across provinces.\n",
      "\n",
      "--- Business Interpretation & Recommendation ---\n",
      "This statistical test provides strong evidence that the differences in claim severity we saw in our EDA are real.\n",
      "Recommendation: ACIS should proceed with developing a region-based pricing strategy, as risk is not uniform across the country.\n"
     ]
    }
   ],
   "source": [
    "# Conduct the ANOVA Test \n",
    "\n",
    "f_statistic, p_value = stats.f_oneway(*claim_groups_by_province)\n",
    "\n",
    "print(f\"ANOVA Test Results for Claim Severity across Provinces:\")\n",
    "print(f\"F-statistic: {f_statistic:.4f}\")\n",
    "print(f\"P-value: {p_value}\")\n",
    "\n",
    "print(\"\\n--- Conclusion ---\")\n",
    "if p_value < alpha:\n",
    "    print(f\"Result: The p-value ({p_value}) is less than our alpha ({alpha}).\")\n",
    "    print(\"Decision: We REJECT the null hypothesis.\")\n",
    "    print(\"Insight: There IS a statistically significant difference in the average claim amount (severity) across provinces.\")\n",
    "else:\n",
    "    print(f\"Result: The p-value ({p_value}) is greater than our alpha ({alpha}).\")\n",
    "    print(\"Decision: We FAIL TO REJECT the null hypothesis.\")\n",
    "    print(\"Insight: There is NO statistically significant difference in the average claim amount (severity) across provinces.\")\n",
    "\n",
    "print(\"\\n--- Business Interpretation & Recommendation ---\")\n",
    "print(\"This statistical test provides strong evidence that the differences in claim severity we saw in our EDA are real.\")\n",
    "print(\"Recommendation: ACIS should proceed with developing a region-based pricing strategy, as risk is not uniform across the country.\")"
   ]
  },
  {
   "cell_type": "code",
   "execution_count": 7,
   "id": "defe0e8f-34a6-462b-9711-396ea63dcba7",
   "metadata": {},
   "outputs": [
    {
     "name": "stdout",
     "output_type": "stream",
     "text": [
      "--- H₀: Claim frequency is the same across provinces ---\n",
      "Contingency Table (Observed Frequencies):\n",
      " HasClaim            0     1\n",
      "Province                   \n",
      "Eastern Cape    19647    47\n",
      "Free State       5923     9\n",
      "Gauteng        239229  1243\n",
      "KwaZulu-Natal  111443   453\n",
      "Limpopo         17943    66\n",
      "Mpumalanga      31514   125\n",
      "North West      89465   334\n",
      "Northern Cape    3635     8\n",
      "Western Cape    96309   343\n",
      "\n",
      "Chi-Squared Test Results:\n",
      "Chi2 Statistic: 98.5540\n",
      "P-value: 8.428614727758814e-18\n",
      "\n",
      "Decision: We REJECT the null hypothesis.\n",
      "Insight: Claim frequency IS significantly different across provinces.\n"
     ]
    }
   ],
   "source": [
    "# --- Hypothesis 1 (Part 2): Claim Frequency Across Provinces ---\n",
    "print(\"--- H₀: Claim frequency is the same across provinces ---\")\n",
    "\n",
    "# We need a 'HasClaim' column (1 if claim > 0, else 0)\n",
    "df['HasClaim'] = (df['TotalClaims'] > 0).astype(int)\n",
    "\n",
    "# Create a contingency table (crosstab) of observed frequencies\n",
    "contingency_table = pd.crosstab(df['Province'], df['HasClaim'])\n",
    "print(\"Contingency Table (Observed Frequencies):\\n\", contingency_table)\n",
    "\n",
    "# The correct test for comparing proportions across multiple categories is the Chi-Squared test.\n",
    "chi2_stat, p_value_freq, dof, expected_freqs = stats.chi2_contingency(contingency_table)\n",
    "\n",
    "print(f\"\\nChi-Squared Test Results:\")\n",
    "print(f\"Chi2 Statistic: {chi2_stat:.4f}\")\n",
    "print(f\"P-value: {p_value_freq}\")\n",
    "\n",
    "# --- Conclusion ---\n",
    "if p_value_freq < alpha:\n",
    "    print(\"\\nDecision: We REJECT the null hypothesis.\")\n",
    "    print(\"Insight: Claim frequency IS significantly different across provinces.\")\n",
    "else:\n",
    "    print(\"\\nDecision: We FAIL TO REJECT the null hypothesis.\")\n",
    "    print(\"Insight: No significant difference found in claim frequency across provinces.\")"
   ]
  },
  {
   "cell_type": "code",
   "execution_count": 8,
   "id": "06e6fd21-3f3e-4813-a1b0-c32dbdcebf1e",
   "metadata": {},
   "outputs": [
    {
     "name": "stdout",
     "output_type": "stream",
     "text": [
      "\n",
      "--- H₀: Claim severity is the same across the top 10 zip codes ---\n",
      "\n",
      "ANOVA Test Results for Top 10 Zip Codes:\n",
      "F-statistic: 5.9382\n",
      "P-value: 4.158134818707754e-08\n",
      "\n",
      "Decision: We REJECT the null hypothesis.\n",
      "Insight: There IS a statistically significant difference in claim severity among the top 10 zip codes.\n"
     ]
    }
   ],
   "source": [
    "# --- Hypothesis 2: Risk Differences Across Top 10 Zip Codes (Severity) ---\n",
    "print(\"\\n--- H₀: Claim severity is the same across the top 10 zip codes ---\")\n",
    "\n",
    "# Find the top 10 zip codes by number of policies\n",
    "top_10_zipcodes = df['PostalCode'].value_counts().nlargest(10).index\n",
    "\n",
    "# Filter the claims data to only include these top zip codes\n",
    "df_claims_top_zips = df_claims_only[df_claims_only['PostalCode'].isin(top_10_zipcodes)]\n",
    "\n",
    "# Create the groups for the ANOVA test\n",
    "claim_groups_by_zip = [\n",
    "    df_claims_top_zips['TotalClaims'][df_claims_top_zips['PostalCode'] == zc]\n",
    "    for zc in top_10_zipcodes\n",
    "]\n",
    "\n",
    "# Conduct the ANOVA Test\n",
    "f_stat_zip, p_value_zip = stats.f_oneway(*claim_groups_by_zip)\n",
    "\n",
    "print(f\"\\nANOVA Test Results for Top 10 Zip Codes:\")\n",
    "print(f\"F-statistic: {f_stat_zip:.4f}\")\n",
    "print(f\"P-value: {p_value_zip}\")\n",
    "\n",
    "# --- Conclusion ---\n",
    "if p_value_zip < alpha:\n",
    "    print(\"\\nDecision: We REJECT the null hypothesis.\")\n",
    "    print(\"Insight: There IS a statistically significant difference in claim severity among the top 10 zip codes.\")\n",
    "else:\n",
    "    print(\"\\nDecision: We FAIL TO REJECT the null hypothesis.\")\n",
    "    print(\"Insight: No significant difference found in claim severity among the top 10 zip codes.\")"
   ]
  },
  {
   "cell_type": "code",
   "execution_count": null,
   "id": "3a38bd85-0d53-4308-af7a-4999db7678cb",
   "metadata": {},
   "outputs": [],
   "source": []
  }
 ],
 "metadata": {
  "kernelspec": {
   "display_name": "Python (acis-risk-venv)",
   "language": "python",
   "name": "acis-risk-venv"
  },
  "language_info": {
   "codemirror_mode": {
    "name": "ipython",
    "version": 3
   },
   "file_extension": ".py",
   "mimetype": "text/x-python",
   "name": "python",
   "nbconvert_exporter": "python",
   "pygments_lexer": "ipython3",
   "version": "3.10.9"
  }
 },
 "nbformat": 4,
 "nbformat_minor": 5
}
