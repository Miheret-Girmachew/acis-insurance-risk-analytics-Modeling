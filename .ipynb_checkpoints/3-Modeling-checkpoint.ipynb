{
 "cells": [
  {
   "cell_type": "code",
   "execution_count": null,
   "id": "684f3663",
   "metadata": {},
   "outputs": [],
   "source": [
    "# --- Load Libraries ---\n",
    "import pandas as pd\n",
    "import numpy as np\n",
    "from sklearn.model_selection import train_test_split\n",
    "from sklearn.preprocessing import StandardScaler\n",
    "from sklearn.linear_model import LinearRegression\n",
    "from sklearn.ensemble import RandomForestRegressor\n",
    "import xgboost as xgb\n",
    "from sklearn.metrics import mean_squared_error, r2_score\n",
    "import shap\n",
    "\n",
    "# --- Load Data ---\n",
    "df = pd.read_csv('data/cleaned_insurance_data.csv')\n",
    "\n",
    "# --- Feature Engineering ---\n",
    "# Create a 'VehicleAge' feature, as it's likely very predictive\n",
    "current_year = df['TransactionMonth'].dt.year.max()\n",
    "df['VehicleAge'] = current_year - df['RegistrationYear']\n",
    "\n",
    "# --- Define Features (X) and Target (y) for Claim Severity Model ---\n",
    "# The goal is to predict TotalClaims for policies that HAVE a claim\n",
    "df_model = df[df['TotalClaims'] > 0].copy()\n",
    "\n",
    "features = [\n",
    "    'VehicleAge', 'CustomValueEstimate', 'kilowatts', 'cubiccapacity',\n",
    "    'Province', 'VehicleType', 'make', 'bodytype', 'AlarmImmobiliser', 'TrackingDevice'\n",
    "]\n",
    "target = 'TotalClaims'\n",
    "\n",
    "X = df_model[features]\n",
    "y = df_model[target]\n",
    "\n",
    "# --- Encoding Categorical Features ---\n",
    "# Use one-hot encoding to convert text categories into numbers\n",
    "X_encoded = pd.get_dummies(X, columns=['Province', 'VehicleType', 'make', 'bodytype', 'AlarmImmobiliser', 'TrackingDevice'], drop_first=True)\n",
    "\n",
    "# --- Train-Test Split ---\n",
    "X_train, X_test, y_train, y_test = train_test_split(X_encoded, y, test_size=0.2, random_state=42)\n",
    "\n",
    "# --- Scaling Numerical Features ---\n",
    "# Important to do this AFTER the split\n",
    "scaler = StandardScaler()\n",
    "# Fit on training data and transform both sets\n",
    "X_train_scaled = scaler.fit_transform(X_train)\n",
    "X_test_scaled = scaler.transform(X_test)\n",
    "\n",
    "print(\"Data preparation for modeling is complete.\")"
   ]
  }
 ],
 "metadata": {
  "language_info": {
   "name": "python"
  }
 },
 "nbformat": 4,
 "nbformat_minor": 5
}
