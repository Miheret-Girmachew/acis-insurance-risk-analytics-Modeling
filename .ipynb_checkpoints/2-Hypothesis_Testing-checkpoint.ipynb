{
 "cells": [
  {
   "cell_type": "code",
   "execution_count": null,
   "id": "feeb063b",
   "metadata": {},
   "outputs": [
    {
     "name": "stdout",
     "output_type": "stream",
     "text": [
      "d:\\Tenx\\.venv\\Scripts\\python.exe\n"
     ]
    },
    {
     "ename": "ModuleNotFoundError",
     "evalue": "No module named 'scipy'",
     "output_type": "error",
     "traceback": [
      "\u001b[1;31m---------------------------------------------------------------------------\u001b[0m",
      "\u001b[1;31mModuleNotFoundError\u001b[0m                       Traceback (most recent call last)",
      "Cell \u001b[1;32mIn[1], line 4\u001b[0m\n\u001b[0;32m      2\u001b[0m \u001b[38;5;28mprint\u001b[39m(sys\u001b[38;5;241m.\u001b[39mexecutable)\n\u001b[0;32m      3\u001b[0m \u001b[38;5;28;01mimport\u001b[39;00m\u001b[38;5;250m \u001b[39m\u001b[38;5;21;01mpandas\u001b[39;00m\u001b[38;5;250m \u001b[39m\u001b[38;5;28;01mas\u001b[39;00m\u001b[38;5;250m \u001b[39m\u001b[38;5;21;01mpd\u001b[39;00m\n\u001b[1;32m----> 4\u001b[0m \u001b[38;5;28;01mfrom\u001b[39;00m\u001b[38;5;250m \u001b[39m\u001b[38;5;21;01mscipy\u001b[39;00m\u001b[38;5;250m \u001b[39m\u001b[38;5;28;01mimport\u001b[39;00m stats\n\u001b[0;32m      5\u001b[0m \u001b[38;5;28;01mimport\u001b[39;00m\u001b[38;5;250m \u001b[39m\u001b[38;5;21;01mnumpy\u001b[39;00m\u001b[38;5;250m \u001b[39m\u001b[38;5;28;01mas\u001b[39;00m\u001b[38;5;250m \u001b[39m\u001b[38;5;21;01mnp\u001b[39;00m\n\u001b[0;32m      7\u001b[0m \u001b[38;5;28;01mtry\u001b[39;00m:\n",
      "\u001b[1;31mModuleNotFoundError\u001b[0m: No module named 'scipy'"
     ]
    }
   ],
   "source": [
    "import sys\n",
    "print(sys.executable)\n",
    "import pandas as pd\n",
    "from scipy import stats\n",
    "import numpy as np\n",
    "\n",
    "try:\n",
    "    df = pd.read_csv('data/cleaned_insurance_data.csv')\n",
    "    print(\"Cleaned data loaded successfully.\")\n",
    "    print(\"Data shape:\", df.shape)\n",
    "except FileNotFoundError:\n",
    "    print(\"ERROR: Could not find 'data/cleaned_insurance_data.csv'.\")\n",
    "\n",
    "alpha = 0.05"
   ]
  },
  {
   "cell_type": "code",
   "execution_count": null,
   "id": "41b2bcbf",
   "metadata": {},
   "outputs": [],
   "source": [
    "# --- Prepare data for Claim SEVERITY test ---\n",
    "\n",
    "# Create a dataframe containing only policies where a claim occurred (TotalClaims > 0).\n",
    "df_claims_only = df[df['TotalClaims'] > 0].copy()\n",
    "\n",
    "print(f\"Number of policies with a claim: {len(df_claims_only)}\")\n",
    "\n",
    "# For an ANOVA test, we need to create a separate list of claim values for each province.\n",
    "provinces = df_claims_only['Province'].unique()\n",
    "claim_groups_by_province = [\n",
    "    df_claims_only['TotalClaims'][df_claims_only['Province'] == prov]\n",
    "    for prov in provinces\n",
    "]\n",
    "\n",
    "# Let's check our work. We should have a list of 9 pandas Series.\n",
    "print(f\"\\nNumber of province groups to compare: {len(claim_groups_by_province)}\")"
   ]
  },
  {
   "cell_type": "code",
   "execution_count": null,
   "id": "fcd20633",
   "metadata": {},
   "outputs": [],
   "source": [
    "# --- Conduct the ANOVA Test ---\n",
    "\n",
    "# We are comparing the means of a number across more than two groups, so ANOVA is the right test.\n",
    "# The f_oneway function takes each group as a separate argument. The '*' unpacks our list for the function.\n",
    "f_statistic, p_value = stats.f_oneway(*claim_groups_by_province)\n",
    "\n",
    "print(f\"ANOVA Test Results for Claim Severity across Provinces:\")\n",
    "print(f\"F-statistic: {f_statistic:.4f}\")\n",
    "print(f\"P-value: {p_value}\")\n",
    "\n",
    "# --- Interpret the Results ---\n",
    "print(\"\\n--- Conclusion ---\")\n",
    "if p_value < alpha:\n",
    "    print(f\"Result: The p-value ({p_value}) is less than our alpha ({alpha}).\")\n",
    "    print(\"Decision: We REJECT the null hypothesis.\")\n",
    "    print(\"Insight: There IS a statistically significant difference in the average claim amount (severity) across provinces.\")\n",
    "else:\n",
    "    print(f\"Result: The p-value ({p_value}) is greater than our alpha ({alpha}).\")\n",
    "    print(\"Decision: We FAIL TO REJECT the null hypothesis.\")\n",
    "    print(\"Insight: There is NO statistically significant difference in the average claim amount (severity) across provinces.\")\n",
    "\n",
    "# --- Business Recommendation ---\n",
    "print(\"\\n--- Business Interpretation & Recommendation ---\")\n",
    "print(\"This statistical test provides strong evidence that the differences in claim severity we saw in our EDA are real.\")\n",
    "print(\"Recommendation: ACIS should proceed with developing a region-based pricing strategy, as risk is not uniform across the country.\")"
   ]
  }
 ],
 "metadata": {
  "kernelspec": {
   "display_name": ".venv",
   "language": "python",
   "name": "python3"
  },
  "language_info": {
   "codemirror_mode": {
    "name": "ipython",
    "version": 3
   },
   "file_extension": ".py",
   "mimetype": "text/x-python",
   "name": "python",
   "nbconvert_exporter": "python",
   "pygments_lexer": "ipython3",
   "version": "3.10.9"
  }
 },
 "nbformat": 4,
 "nbformat_minor": 5
}
